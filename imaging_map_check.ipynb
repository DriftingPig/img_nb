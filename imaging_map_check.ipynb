{
 "cells": [
  {
   "cell_type": "code",
   "execution_count": 1,
   "id": "04556486-ab6b-4da3-a3e6-091b519ff443",
   "metadata": {},
   "outputs": [],
   "source": [
    "import astropy.io.fits as fits\n",
    "import os\n",
    "import matplotlib.pyplot as plt\n",
    "import numpy as np\n",
    "from astropy.coordinates import SkyCoord\n",
    "from astropy import units as u\n",
    "#https://www.legacysurvey.org/dr9/catalogs/ "
   ]
  },
  {
   "cell_type": "code",
   "execution_count": 2,
   "id": "5c6b7261-964d-440c-8c8b-06f04f63dd96",
   "metadata": {},
   "outputs": [],
   "source": [
    "fn_map_rongpu = \"/global/cfs/cdirs/desi/users/rongpu/data/imaging_sys/randoms_stats/0.49.0/resolve/combined/pixmap_south_nside_256_minobs_1_maskbits_189111213.fits\"\n",
    "#psfdepth_w1mag_ebv\n",
    "fn_map_911 = \"/global/cfs/cdirs/desi/target/catalogs/dr9/1.1.1/pixweight/main/resolve/dark/pixweight-1-dark.fits\"\n",
    "\n",
    "fn_lrg_ashley = \"/global/cfs/cdirs/desi/survey/catalogs/main/LSS/LRGtargetsDR9v1.1.1.fits\"\n",
    "fn_lrgsv3 =\"/global/cscratch1/sd/huikong/Obiwan/dr9_LRG/obiwan_out/truth/LRG_SV3/sweep/LRG_SV3_south_desi.fits\"\n"
   ]
  },
  {
   "cell_type": "code",
   "execution_count": 3,
   "id": "e1ee358f-03cf-4354-b33e-7685d26d655b",
   "metadata": {},
   "outputs": [],
   "source": [
    "dat_lrg = fits.getdata(fn_lrg_ashley)\n",
    "dat_lrg_sv3 = fits.getdata(fn_lrgsv3)"
   ]
  },
  {
   "cell_type": "code",
   "execution_count": 4,
   "id": "5b0661d4-c698-4187-b74e-fc8894c676a0",
   "metadata": {},
   "outputs": [],
   "source": [
    "dat_lrg = fits.getdata(fn_lrg_ashley)\n",
    "sel = (dat_lrg['ra']>155)&(dat_lrg['ra']<155.5)&(dat_lrg['dec']>10)&(dat_lrg['dec']<10.5)\n",
    "dat_lrg = dat_lrg[sel]\n",
    "\n",
    "dat_lrg_sv3 = fits.getdata(fn_lrgsv3)\n",
    "sel = (dat_lrg_sv3['ra']>155)&(dat_lrg_sv3['ra']<155.5)&(dat_lrg_sv3['dec']>10)&(dat_lrg_sv3['dec']<10.5)\n",
    "dat_lrg_sv3 = dat_lrg_sv3[sel]"
   ]
  },
  {
   "cell_type": "code",
   "execution_count": 5,
   "id": "7b992919-4edb-4e93-941a-1661e28bb623",
   "metadata": {},
   "outputs": [
    {
     "data": {
      "text/plain": [
       "(10.0, 10.5)"
      ]
     },
     "execution_count": 5,
     "metadata": {},
     "output_type": "execute_result"
    },
    {
     "data": {
      "image/png": "[encoded data removed]",
      "text/plain": [
       "<Figure size 432x288 with 1 Axes>"
      ]
     },
     "metadata": {
      "needs_background": "light"
     },
     "output_type": "display_data"
    }
   ],
   "source": [
    "#just a random region\n",
    "plt.plot(dat_lrg['ra'],dat_lrg['dec'],'r.')\n",
    "plt.plot(dat_lrg_sv3['ra'],dat_lrg_sv3['dec'],'b+')\n",
    "plt.gca().set_xlim((155,155.5))\n",
    "plt.gca().set_ylim((10,10.5))"
   ]
  },
  {
   "cell_type": "code",
   "execution_count": null,
   "id": "d9a6cf9f-9d5b-4683-b8e0-1fe4be4e6f79",
   "metadata": {},
   "outputs": [],
   "source": []
  },
  {
   "cell_type": "code",
   "execution_count": 6,
   "id": "6232cbf1-6065-41ee-9fb4-fd52fdde1c9e",
   "metadata": {},
   "outputs": [],
   "source": [
    "c1 = SkyCoord(ra=dat_lrg['ra']*u.degree, dec=dat_lrg['dec']*u.degree)\n",
    "c2 = SkyCoord(ra=np.array(dat_lrg_sv3['ra'])*u.degree, dec=np.array(dat_lrg_sv3['dec'])*u.degree)\n",
    "idx1, d2d, d3d = c1.match_to_catalog_sky(c2)\n",
    "matched = d2d.value <= 0.1/3600\n"
   ]
  },
  {
   "cell_type": "code",
   "execution_count": 7,
   "id": "10a19a5f-da6f-4b6f-b8eb-ebf11cd58a6e",
   "metadata": {},
   "outputs": [
    {
     "data": {
      "text/plain": [
       "[<matplotlib.lines.Line2D at 0x2aab46b23dc0>]"
      ]
     },
     "execution_count": 7,
     "metadata": {},
     "output_type": "execute_result"
    },
    {
     "data": {
      "image/png": "[encoded data removed]",
      "text/plain": [
       "<Figure size 432x288 with 1 Axes>"
      ]
     },
     "metadata": {
      "needs_background": "light"
     },
     "output_type": "display_data"
    }
   ],
   "source": [
    "plt.plot(dat_lrg['ra'][matched],dat_lrg['dec'][matched],'r.')\n",
    "plt.plot(dat_lrg_sv3['ra'][idx1][matched],dat_lrg_sv3['dec'][idx1][matched],'b+')"
   ]
  },
  {
   "cell_type": "code",
   "execution_count": 8,
   "id": "acbdf858-d706-4a77-916f-ae504cb602c9",
   "metadata": {},
   "outputs": [
    {
     "data": {
      "text/plain": [
       "array([0., 0., 0., 0., 0., 0., 0., 0., 0., 0., 0., 0., 0., 0., 0., 0., 0.,\n",
       "       0., 0., 0., 0., 0., 0., 0., 0., 0., 0., 0., 0., 0., 0., 0., 0., 0.,\n",
       "       0., 0., 0., 0., 0., 0., 0., 0., 0., 0., 0., 0., 0., 0., 0., 0., 0.,\n",
       "       0., 0., 0., 0., 0., 0., 0., 0., 0., 0., 0., 0., 0., 0., 0., 0., 0.,\n",
       "       0., 0., 0., 0., 0., 0., 0., 0., 0., 0., 0., 0., 0., 0., 0., 0., 0.,\n",
       "       0., 0., 0., 0., 0., 0., 0., 0., 0., 0., 0., 0., 0., 0., 0., 0., 0.,\n",
       "       0., 0., 0., 0., 0., 0., 0., 0., 0., 0., 0., 0., 0., 0., 0., 0., 0.,\n",
       "       0., 0., 0., 0., 0., 0., 0., 0., 0., 0., 0., 0., 0., 0., 0., 0., 0.,\n",
       "       0., 0., 0., 0., 0., 0.], dtype=float32)"
      ]
     },
     "execution_count": 8,
     "metadata": {},
     "output_type": "execute_result"
    }
   ],
   "source": [
    "dat_lrg['psfdepth_g'][matched]-dat_lrg_sv3['psfdepth_g'][idx1][matched]"
   ]
  },
  {
   "cell_type": "code",
   "execution_count": 9,
   "id": "bbb85766-7307-4694-a970-352574c9699e",
   "metadata": {},
   "outputs": [
    {
     "data": {
      "text/plain": [
       "array([0., 0., 0., 0., 0., 0., 0., 0., 0., 0., 0., 0., 0., 0., 0., 0., 0.,\n",
       "       0., 0., 0., 0., 0., 0., 0., 0., 0., 0., 0., 0., 0., 0., 0., 0., 0.,\n",
       "       0., 0., 0., 0., 0., 0., 0., 0., 0., 0., 0., 0., 0., 0., 0., 0., 0.,\n",
       "       0., 0., 0., 0., 0., 0., 0., 0., 0., 0., 0., 0., 0., 0., 0., 0., 0.,\n",
       "       0., 0., 0., 0., 0., 0., 0., 0., 0., 0., 0., 0., 0., 0., 0., 0., 0.,\n",
       "       0., 0., 0., 0., 0., 0., 0., 0., 0., 0., 0., 0., 0., 0., 0., 0., 0.,\n",
       "       0., 0., 0., 0., 0., 0., 0., 0., 0., 0., 0., 0., 0., 0., 0., 0., 0.,\n",
       "       0., 0., 0., 0., 0., 0., 0., 0., 0., 0., 0., 0., 0., 0., 0., 0., 0.,\n",
       "       0., 0., 0., 0., 0., 0.], dtype=float32)"
      ]
     },
     "execution_count": 9,
     "metadata": {},
     "output_type": "execute_result"
    }
   ],
   "source": [
    "dat_lrg['psfdepth_r'][matched]-dat_lrg_sv3['psfdepth_r'][idx1][matched]"
   ]
  },
  {
   "cell_type": "code",
   "execution_count": 10,
   "id": "6e4678d1-f49f-44d1-8be0-ad5930f44737",
   "metadata": {},
   "outputs": [
    {
     "data": {
      "text/plain": [
       "array([0., 0., 0., 0., 0., 0., 0., 0., 0., 0., 0., 0., 0., 0., 0., 0., 0.,\n",
       "       0., 0., 0., 0., 0., 0., 0., 0., 0., 0., 0., 0., 0., 0., 0., 0., 0.,\n",
       "       0., 0., 0., 0., 0., 0., 0., 0., 0., 0., 0., 0., 0., 0., 0., 0., 0.,\n",
       "       0., 0., 0., 0., 0., 0., 0., 0., 0., 0., 0., 0., 0., 0., 0., 0., 0.,\n",
       "       0., 0., 0., 0., 0., 0., 0., 0., 0., 0., 0., 0., 0., 0., 0., 0., 0.,\n",
       "       0., 0., 0., 0., 0., 0., 0., 0., 0., 0., 0., 0., 0., 0., 0., 0., 0.,\n",
       "       0., 0., 0., 0., 0., 0., 0., 0., 0., 0., 0., 0., 0., 0., 0., 0., 0.,\n",
       "       0., 0., 0., 0., 0., 0., 0., 0., 0., 0., 0., 0., 0., 0., 0., 0., 0.,\n",
       "       0., 0., 0., 0., 0., 0.], dtype=float32)"
      ]
     },
     "execution_count": 10,
     "metadata": {},
     "output_type": "execute_result"
    }
   ],
   "source": [
    "dat_lrg['psfdepth_z'][matched]-dat_lrg_sv3['psfdepth_z'][idx1][matched]"
   ]
  },
  {
   "cell_type": "code",
   "execution_count": null,
   "id": "c1ad5986-7255-4853-a4e7-6ee64a1ac899",
   "metadata": {},
   "outputs": [],
   "source": [
    "#SAME!"
   ]
  },
  {
   "cell_type": "code",
   "execution_count": null,
   "id": "9ed1d1e5-e4af-46be-947c-3573dc7760db",
   "metadata": {},
   "outputs": [],
   "source": []
  },
  {
   "cell_type": "code",
   "execution_count": 11,
   "id": "5ffb4397-8c12-4ed2-a471-412d14e54247",
   "metadata": {},
   "outputs": [
    {
     "data": {
      "text/plain": [
       "9.458734"
      ]
     },
     "execution_count": 11,
     "metadata": {},
     "output_type": "execute_result"
    }
   ],
   "source": [
    "dat_lrg_sv3 = fits.getdata(fn_lrgsv3)\n",
    "dat_lrg_sv3['psfdepth_w1'].max()"
   ]
  },
  {
   "cell_type": "code",
   "execution_count": 12,
   "id": "fed31280-aa7f-4253-a8af-ec144d093adf",
   "metadata": {},
   "outputs": [
    {
     "data": {
      "text/plain": [
       "(array([1597383, 1597384, 1597385, 1597386, 1597388]),)"
      ]
     },
     "execution_count": 12,
     "metadata": {},
     "output_type": "execute_result"
    }
   ],
   "source": [
    "np.where(dat_lrg_sv3['psfdepth_w1']==dat_lrg_sv3['psfdepth_w1'].max())"
   ]
  },
  {
   "cell_type": "code",
   "execution_count": 13,
   "id": "068ff0a5-06eb-4d8c-ba10-e063b2809f57",
   "metadata": {},
   "outputs": [
    {
     "data": {
      "text/plain": [
       "(255.00147972902283, 32.39421643495082, 9.458734)"
      ]
     },
     "execution_count": 13,
     "metadata": {},
     "output_type": "execute_result"
    }
   ],
   "source": [
    "dat_lrg_sv3['ra'][1597383],dat_lrg_sv3['dec'][1597383],dat_lrg_sv3['psfdepth_w1'][1597383]"
   ]
  },
  {
   "cell_type": "code",
   "execution_count": 14,
   "id": "4879339f-9b32-4a1b-aba4-69638acc7726",
   "metadata": {},
   "outputs": [],
   "source": [
    "sel = (dat_lrg_sv3['ra']>254.9)&(dat_lrg_sv3['ra']<255.1)&(dat_lrg_sv3['dec']>32.3)&(dat_lrg_sv3['dec']<32.5)"
   ]
  },
  {
   "cell_type": "code",
   "execution_count": 15,
   "id": "6ec0c3e3-5c4f-4d23-a3d7-d8cb73cb348e",
   "metadata": {},
   "outputs": [
    {
     "data": {
      "text/plain": [
       "(array([1., 0., 7., 0., 8., 0., 2., 0., 0., 4.]),\n",
       " array([9.068299, 9.107343, 9.146386, 9.18543 , 9.224473, 9.263516,\n",
       "        9.30256 , 9.341603, 9.380647, 9.41969 , 9.458734], dtype=float32),\n",
       " <a list of 10 Patch objects>)"
      ]
     },
     "execution_count": 15,
     "metadata": {},
     "output_type": "execute_result"
    },
    {
     "data": {
      "image/png": "[encoded data removed]",
      "text/plain": [
       "<Figure size 432x288 with 1 Axes>"
      ]
     },
     "metadata": {
      "needs_background": "light"
     },
     "output_type": "display_data"
    }
   ],
   "source": [
    "plt.hist(dat_lrg_sv3['psfdepth_w1'][sel])"
   ]
  },
  {
   "cell_type": "code",
   "execution_count": 19,
   "id": "b6767f18-e633-421f-b26c-016885f085ab",
   "metadata": {},
   "outputs": [
    {
     "data": {
      "text/plain": [
       "array([21.949438, 21.949373, 21.94941 , 21.94941 , 21.94938 , 21.949366,\n",
       "       21.949322, 21.967165, 21.966993, 21.967161, 21.967133, 21.944183,\n",
       "       21.954765, 21.954792, 21.9548  , 21.954353, 21.9544  , 21.954393,\n",
       "       21.954515, 21.954596, 21.958588, 21.9586  ], dtype=float32)"
      ]
     },
     "execution_count": 19,
     "metadata": {},
     "output_type": "execute_result"
    }
   ],
   "source": [
    "-2.5*(np.log10(5/np.sqrt(dat_lrg_sv3['psfdepth_w1'][sel]))-9)-0.184*dat_lrg_sv3['ebv'][sel]\n"
   ]
  },
  {
   "cell_type": "code",
   "execution_count": 16,
   "id": "88a4aadf-5d0f-4d08-b8d8-87915d0ab918",
   "metadata": {},
   "outputs": [
    {
     "data": {
      "text/plain": [
       "(array([ 2.,  0.,  0.,  0.,  4.,  0.,  0.,  0.,  4., 12.]),\n",
       " array([422.8968 , 470.28873, 517.68066, 565.07263, 612.4646 , 659.85657,\n",
       "        707.2485 , 754.64044, 802.0324 , 849.4243 , 896.8163 ],\n",
       "       dtype=float32),\n",
       " <a list of 10 Patch objects>)"
      ]
     },
     "execution_count": 16,
     "metadata": {},
     "output_type": "execute_result"
    },
    {
     "data": {
      "image/png": "[encoded data removed]",
      "text/plain": [
       "<Figure size 432x288 with 1 Axes>"
      ]
     },
     "metadata": {
      "needs_background": "light"
     },
     "output_type": "display_data"
    }
   ],
   "source": [
    "plt.hist(dat_lrg_sv3['psfdepth_g'][sel])"
   ]
  },
  {
   "cell_type": "code",
   "execution_count": null,
   "id": "2bc57ffd-be8a-489a-91f1-676e716be6e2",
   "metadata": {},
   "outputs": [],
   "source": []
  },
  {
   "cell_type": "code",
   "execution_count": 25,
   "id": "365df915-c49e-4819-9bcf-22bb4444879c",
   "metadata": {},
   "outputs": [],
   "source": [
    "randoms = fits.getdata(\"/global/cfs/cdirs/cosmo/data/legacysurvey/dr9/south/randoms/randoms-south-1-0.fits\")\n",
    "sel = (randoms['ra']>254.9)&(randoms['ra']<255.1)&(randoms['dec']>32.3)&(randoms['dec']<32.5)"
   ]
  },
  {
   "cell_type": "code",
   "execution_count": 26,
   "id": "5304bcfe-4fb9-41d3-aca6-7f938958c510",
   "metadata": {},
   "outputs": [
    {
     "data": {
      "text/plain": [
       "(array([ 1.,  0.,  1.,  0.,  0.,  0.,  2.,  6., 12., 51.]),\n",
       " array([1.1701441, 1.6342744, 2.0984046, 2.562535 , 3.0266652, 3.4907956,\n",
       "        3.954926 , 4.4190564, 4.8831863, 5.3473167, 5.811447 ],\n",
       "       dtype=float32),\n",
       " <a list of 10 Patch objects>)"
      ]
     },
     "execution_count": 26,
     "metadata": {},
     "output_type": "execute_result"
    },
    {
     "data": {
      "image/png": "[encoded data removed]",
      "text/plain": [
       "<Figure size 432x288 with 1 Axes>"
      ]
     },
     "metadata": {
      "needs_background": "light"
     },
     "output_type": "display_data"
    }
   ],
   "source": [
    "plt.hist(randoms['psfdepth_w1'][sel])"
   ]
  },
  {
   "cell_type": "code",
   "execution_count": 27,
   "id": "05f4dbc1-9169-47af-b161-833bb4506ffe",
   "metadata": {},
   "outputs": [
    {
     "data": {
      "text/plain": [
       "array([21.67437 , 21.598803, 21.677057, 21.693422, 21.651363, 21.68745 ,\n",
       "       21.673819, 21.233452, 21.670216, 21.637665, 21.653263, 21.659958,\n",
       "       21.685675, 21.678242, 20.832638, 21.681383, 21.686296, 21.682903,\n",
       "       21.683935, 21.695482, 21.662703, 21.678288, 21.682632, 21.580172,\n",
       "       21.654354, 21.550926, 21.693491, 21.676556, 21.668356, 21.670862,\n",
       "       21.651457, 21.657993, 21.609896, 21.658525, 21.694614, 21.693031,\n",
       "       21.683065, 21.691933, 21.677696, 21.696411, 21.619837, 21.643333,\n",
       "       21.585846, 21.677055, 21.661375, 21.69353 , 21.538263, 21.67566 ,\n",
       "       21.615835, 21.671291, 21.674524, 21.665983, 21.590658, 21.65244 ,\n",
       "       21.678122, 21.689188, 21.679647, 21.676937, 21.678276, 21.65944 ,\n",
       "       21.598263, 21.672775, 21.68548 , 21.68846 , 21.675926, 21.702757,\n",
       "       21.65644 , 21.696026, 21.684069, 21.561852, 21.653381, 21.67259 ,\n",
       "       21.67869 ], dtype=float32)"
      ]
     },
     "execution_count": 27,
     "metadata": {},
     "output_type": "execute_result"
    }
   ],
   "source": [
    "-2.5*(np.log10(5/np.sqrt(randoms['psfdepth_w1'][sel]))-9)-0.184*randoms['ebv'][sel]"
   ]
  },
  {
   "cell_type": "code",
   "execution_count": 10,
   "id": "43b9cbc7-a121-4be0-852d-5e205a184d8c",
   "metadata": {},
   "outputs": [
    {
     "data": {
      "text/plain": [
       "(array([10.,  0.,  0.,  0., 10.,  2.,  0.,  0., 28., 23.]),\n",
       " array([422.00082, 469.48236, 516.9639 , 564.44543, 611.927  , 659.40857,\n",
       "        706.8901 , 754.37164, 801.8532 , 849.3347 , 896.8163 ],\n",
       "       dtype=float32),\n",
       " <a list of 10 Patch objects>)"
      ]
     },
     "execution_count": 10,
     "metadata": {},
     "output_type": "execute_result"
    },
    {
     "data": {
      "image/png": "[encoded data removed]",
      "text/plain": [
       "<Figure size 432x288 with 1 Axes>"
      ]
     },
     "metadata": {
      "needs_background": "light"
     },
     "output_type": "display_data"
    }
   ],
   "source": [
    "plt.hist(randoms['psfdepth_g'][sel])"
   ]
  },
  {
   "cell_type": "code",
   "execution_count": 22,
   "id": "4d04098a-f988-4ae4-aa9a-e27ba462aec7",
   "metadata": {},
   "outputs": [],
   "source": [
    "u = fits.getdata(fn_map_rongpu)\n",
    "sel = (u['ra']>254.9)&(u['ra']<255.1)&(u['dec']>32.3)&(u['dec']<32.5)"
   ]
  },
  {
   "cell_type": "code",
   "execution_count": 24,
   "id": "bc3c2d0e-a10f-4423-889e-f79d76f5173f",
   "metadata": {},
   "outputs": [
    {
     "data": {
      "text/plain": [
       "array([21.68325043])"
      ]
     },
     "execution_count": 24,
     "metadata": {},
     "output_type": "execute_result"
    }
   ],
   "source": [
    "u[sel]['psfdepth_w1mag_ebv']"
   ]
  },
  {
   "cell_type": "code",
   "execution_count": 41,
   "id": "38b6f541-1ff8-44e5-83d7-0548e216379c",
   "metadata": {},
   "outputs": [
    {
     "data": {
      "text/plain": [
       "array([21.954624, 21.954645, 21.954554, ..., 21.953957, 21.954006,\n",
       "       21.954376], dtype=float32)"
      ]
     },
     "execution_count": 41,
     "metadata": {},
     "output_type": "execute_result"
    }
   ],
   "source": [
    "#check related tractor file \n",
    "dat = fits.getdata('/global/cfs/cdirs/cosmo/work/legacysurvey/dr9/south/tractor/255/tractor-2550p322.fits')\n",
    "dat = dat[dat['maskbits']==0]\n",
    "-2.5*(np.log10(5/np.sqrt(dat['psfdepth_w1']))-9)-0.184*dat['ebv']"
   ]
  },
  {
   "cell_type": "code",
   "execution_count": 42,
   "id": "179701cf-d79b-4b20-b592-8b549200fb7e",
   "metadata": {},
   "outputs": [
    {
     "data": {
      "text/plain": [
       "21.95443"
      ]
     },
     "execution_count": 42,
     "metadata": {},
     "output_type": "execute_result"
    }
   ],
   "source": [
    "(-2.5*(np.log10(5/np.sqrt(dat['psfdepth_w1']))-9)-0.184*dat['ebv']).mean()"
   ]
  },
  {
   "cell_type": "code",
   "execution_count": 44,
   "id": "6414bcfe-8d30-43a2-9830-28f1e171243d",
   "metadata": {},
   "outputs": [
    {
     "data": {
      "text/plain": [
       "(21.953957, 21.954863)"
      ]
     },
     "execution_count": 44,
     "metadata": {},
     "output_type": "execute_result"
    }
   ],
   "source": [
    "(-2.5*(np.log10(5/np.sqrt(dat['psfdepth_w1']))-9)-0.184*dat['ebv']).min(),(-2.5*(np.log10(5/np.sqrt(dat['psfdepth_w1']))-9)-0.184*dat['ebv']).max()"
   ]
  },
  {
   "cell_type": "code",
   "execution_count": 56,
   "id": "aac0d785-87b7-4b14-8f4d-4b0963231b79",
   "metadata": {},
   "outputs": [
    {
     "data": {
      "text/plain": [
       "array([21.954624, 21.954693, 21.954672, ..., 21.953993, 21.954401,\n",
       "       21.953957], dtype=float32)"
      ]
     },
     "execution_count": 56,
     "metadata": {},
     "output_type": "execute_result"
    }
   ],
   "source": [
    "#check related tractor file , north?\n",
    "dat = fits.getdata('/global/cfs/cdirs/cosmo/work/legacysurvey/dr9/north/tractor/255/tractor-2550p322.fits')\n",
    "dat = dat[dat['maskbits']==0]\n",
    "-2.5*(np.log10(5/np.sqrt(dat['psfdepth_w1']))-9)-0.184*dat['ebv']"
   ]
  },
  {
   "cell_type": "code",
   "execution_count": 50,
   "id": "b8e3880d-43e1-4111-9662-1c27526618d9",
   "metadata": {},
   "outputs": [],
   "source": [
    "#the map of dr9.1.1\n",
    "import healpy as hp\n",
    "u = fits.getdata(fn_map_911)\n",
    "ra,dec = hp.pix2ang(256,u['HPXPIXEL'],nest = True, lonlat = True)\n",
    "\n",
    "sel = (ra>254.9)&(ra<255.1)&(dec>32.3)&(dec<32.5)"
   ]
  },
  {
   "cell_type": "code",
   "execution_count": 53,
   "id": "f77943ad-8a75-4ee6-8684-c0c918391ebc",
   "metadata": {},
   "outputs": [
    {
     "data": {
      "text/plain": [
       "array([5.544876], dtype=float32)"
      ]
     },
     "execution_count": 53,
     "metadata": {},
     "output_type": "execute_result"
    }
   ],
   "source": [
    "u[sel]['PSFDEPTH_W1']"
   ]
  },
  {
   "cell_type": "code",
   "execution_count": 54,
   "id": "6a67f178-7a15-48a3-baef-c03ceae046ec",
   "metadata": {},
   "outputs": [
    {
     "data": {
      "text/plain": [
       "array([21.677277], dtype=float32)"
      ]
     },
     "execution_count": 54,
     "metadata": {},
     "output_type": "execute_result"
    }
   ],
   "source": [
    "-2.5*(np.log10(5/np.sqrt(u[sel]['PSFDEPTH_W1']))-9)-0.184*u[sel]['ebv']"
   ]
  },
  {
   "cell_type": "code",
   "execution_count": null,
   "id": "5c43fd08-a1fd-4cd6-a8c1-0697e8957142",
   "metadata": {},
   "outputs": [],
   "source": []
  }
 ],
 "metadata": {
  "kernelspec": {
   "display_name": "DESI 20.8",
   "language": "python",
   "name": "desi-20.8"
  },
  "language_info": {
   "codemirror_mode": {
    "name": "ipython",
    "version": 3
   },
   "file_extension": ".py",
   "mimetype": "text/x-python",
   "name": "python",
   "nbconvert_exporter": "python",
   "pygments_lexer": "ipython3",
   "version": "3.8.3"
  }
 },
 "nbformat": 4,
 "nbformat_minor": 5
}
